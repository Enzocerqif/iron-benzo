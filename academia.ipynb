{
 "cells": [
  {
   "cell_type": "code",
   "execution_count": 2,
   "metadata": {
    "ExecuteTime": {
     "end_time": "2024-09-22T16:38:51.071084Z",
     "start_time": "2024-09-22T16:38:51.061028Z"
    }
   },
   "outputs": [],
   "source": [
    "import sqlite3\n",
    "\n",
    "conn = sqlite3.connect('academia.db')\n",
    "cursor = conn.cursor()\n",
    "\n",
    "cursor.execute('''\n",
    "    CREATE TABLE IF NOT EXISTS Aluno (\n",
    "        cpf VARCHAR(11) PRIMARY KEY NOT NULL,\n",
    "        nome_aluno VARCHAR(50) NOT NULL,\n",
    "        email VARCHAR(50) NOT NULL,\n",
    "        numero_telefone INTEGER(16) NOT NULL,\n",
    "        genero VARCHAR(50),\n",
    "        data_de_nascimento DATE\n",
    "    )\n",
    "''')\n",
    "\n",
    "cursor.execute('''\n",
    "    CREATE TABLE IF NOT EXISTS Plano (\n",
    "        id_plano INTEGER PRIMARY KEY AUTOINCREMENT,\n",
    "        nome_plano VARCHAR(40) NOT NULL,\n",
    "        valor FLOAT(8) NOT NULL\n",
    "    )\n",
    "''')\n",
    "\n",
    "cursor.execute('''\n",
    "    CREATE TABLE IF NOT EXISTS Plano_Aluno (\n",
    "        id_plano_aluno INTEGER PRIMARY KEY AUTOINCREMENT,\n",
    "        cpf VARCHAR(11) NOT NULL,\n",
    "        id_plano INTEGER(4) NOT NULL,\n",
    "        data_adesao DATE NOT NULL,\n",
    "        data_encerramento DATE,\n",
    "        status VARCHAR(50) NOT NULL,\n",
    "        FOREIGN KEY (cpf) REFERENCES Aluno(cpf),\n",
    "        FOREIGN KEY (id_plano) REFERENCES Plano(id_plano)\n",
    "    )\n",
    "''')\n",
    "\n",
    "cursor.execute('''\n",
    "    CREATE TABLE IF NOT EXISTS Ficha (\n",
    "        id_ficha INTEGER PRIMARY KEY AUTOINCREMENT,\n",
    "        cpf VARCHAR(11) NOT NULL,\n",
    "        data_criacao DATE NOT NULL,\n",
    "        FOREIGN KEY (cpf) REFERENCES Aluno(cpf)\n",
    "    )\n",
    "''')\n",
    "\n",
    "cursor.execute('''\n",
    "    CREATE TABLE IF NOT EXISTS Ficha_Treino (\n",
    "        id_ficha_treino INTEGER PRIMARY KEY AUTOINCREMENT,\n",
    "        id_ficha INTEGER(4) NOT NULL,\n",
    "        nome_exercicio INTEGER(4) NOT NULL,\n",
    "        series INTEGER(4) NOT NULL,\n",
    "        repeticoes INTEGER(4) NOT NULL,\n",
    "        dia_da_semana VARCHAR(40) NOT NULL,\n",
    "        FOREIGN KEY (id_ficha) REFERENCES Ficha(id_ficha)\n",
    "    )\n",
    "''')\n",
    "\n",
    "conn.commit()\n",
    "conn.close()\n"
   ]
  },
  {
   "cell_type": "code",
   "execution_count": 1,
   "metadata": {},
   "outputs": [],
   "source": [
    "import sqlite3\n",
    "\n",
    "conn = sqlite3.connect('academia.db')\n",
    "cursor = conn.cursor()\n",
    "\n",
    "cursor.execute('''\n",
    "    DROP TABLE IF EXISTS Plano\n",
    "''')\n",
    "\n",
    "conn.commit()\n",
    "conn.close()"
   ]
  },
  {
   "cell_type": "code",
   "execution_count": null,
   "metadata": {},
   "outputs": [],
   "source": []
  }
 ],
 "metadata": {
  "kernelspec": {
   "display_name": "Python 3",
   "language": "python",
   "name": "python3"
  },
  "language_info": {
   "codemirror_mode": {
    "name": "ipython",
    "version": 3
   },
   "file_extension": ".py",
   "mimetype": "text/x-python",
   "name": "python",
   "nbconvert_exporter": "python",
   "pygments_lexer": "ipython3",
   "version": "3.12.5"
  }
 },
 "nbformat": 4,
 "nbformat_minor": 2
}
