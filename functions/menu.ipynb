{
 "cells": [
  {
   "cell_type": "code",
   "execution_count": 2,
   "metadata": {},
   "outputs": [
    {
     "name": "stdout",
     "output_type": "stream",
     "text": [
      "\n",
      "--- Bem-vindo ao Sistema da Academia ---\n",
      "1 - Cadastrar Aluno\n",
      "2 - Checar Informações (Provisório)\n",
      "3 - Atualizar Dados(1 por vez)\n",
      "4 - Atualizar Plano\n",
      "0 - Fechar Programa\n"
     ]
    },
    {
     "name": "stdout",
     "output_type": "stream",
     "text": [
      "Aluno cadastrado com sucesso! CPF: 07825107365\n",
      "Plano (Anual) cadastrado com sucesso para o aluno com CPF 07825107365!\n",
      "Ficha criada com sucesso para o aluno com CPF 07825107365!\n",
      "\n",
      "--- Bem-vindo ao Sistema da Academia ---\n",
      "1 - Cadastrar Aluno\n",
      "2 - Checar Informações (Provisório)\n",
      "3 - Atualizar Dados(1 por vez)\n",
      "4 - Atualizar Plano\n",
      "0 - Fechar Programa\n"
     ]
    }
   ],
   "source": [
    "from add_client import cadastrar_aluno\n",
    "from checar_prov import checar_informacoes\n",
    "from atualizar_dados import atualizar_dados\n",
    "from atualizar_plano import atualizar_plano\n",
    "\n",
    "def exibir_menu():\n",
    "    while True:\n",
    "        print(\"\\n--- Bem-vindo ao Sistema da Academia ---\")\n",
    "        print(\"1 - Cadastrar Aluno\")\n",
    "        print(\"2 - Checar Informações (Provisório)\")\n",
    "        print(\"3 - Atualizar Dados(1 por vez)\")\n",
    "        print(\"4 - Atualizar Plano\")\n",
    "        print(\"0 - Fechar Programa\")\n",
    "        \n",
    "        opcao = input(\"Escolha uma opção: \")\n",
    "\n",
    "        if opcao == '1':\n",
    "            cadastrar_aluno()\n",
    "        elif opcao == '2':\n",
    "            checar_informacoes()\n",
    "        elif opcao == '3':\n",
    "            atualizar_dados()\n",
    "        elif opcao == '4':\n",
    "            atualizar_plano()\n",
    "        elif opcao == '0':\n",
    "            print(\"Encerrando o programa... Até mais!\")\n",
    "            break\n",
    "        else:\n",
    "            print(\"Opção inválida. Por favor, escolha 1, 2, 3, 4 ou 0.\")\n",
    "\n",
    "if __name__ == '__main__':\n",
    "    exibir_menu()"
   ]
  }
 ],
 "metadata": {
  "kernelspec": {
   "display_name": "Python 3",
   "language": "python",
   "name": "python3"
  },
  "language_info": {
   "codemirror_mode": {
    "name": "ipython",
    "version": 3
   },
   "file_extension": ".py",
   "mimetype": "text/x-python",
   "name": "python",
   "nbconvert_exporter": "python",
   "pygments_lexer": "ipython3",
   "version": "3.11.4"
  }
 },
 "nbformat": 4,
 "nbformat_minor": 2
}
